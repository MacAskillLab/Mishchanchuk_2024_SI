{
 "cells": [
  {
   "cell_type": "code",
   "execution_count": 1,
   "id": "dcea5349-8c74-4cc9-991e-372c781f95a7",
   "metadata": {
    "id": "dcea5349-8c74-4cc9-991e-372c781f95a7"
   },
   "outputs": [],
   "source": [
    "import pickle\n",
    "import pandas as pd\n",
    "import numpy as np \n",
    "import seaborn as sns\n",
    "from matplotlib import pyplot as plt"
   ]
  },
  {
   "cell_type": "code",
   "execution_count": 2,
   "id": "af043720",
   "metadata": {},
   "outputs": [
    {
     "name": "stdout",
     "output_type": "stream",
     "text": [
      "python version 3.9.13 \n",
      "pandas version 1.4.4\n",
      "numpy version 1.21.5\n",
      "seaborn version 0.11.2\n"
     ]
    }
   ],
   "source": [
    "import sys\n",
    "print('python version' + ' ' + sys.version[:7])\n",
    "print('pandas version' + ' ' + pd.__version__)\n",
    "print('numpy version' + ' ' + np.__version__)\n",
    "print('seaborn version' + ' ' + sns.__version__)"
   ]
  },
  {
   "cell_type": "code",
   "execution_count": 3,
   "id": "a8f20537-640d-4bb4-9dde-e746ebb2b1dc",
   "metadata": {
    "id": "a8f20537-640d-4bb4-9dde-e746ebb2b1dc",
    "outputId": "8cc91b3d-bc80-4b28-cbc9-03302a46d01f"
   },
   "outputs": [],
   "source": [
    "#import hex codes\n",
    "pink = '#CD8897'\n",
    "turq = '#61A2AD'"
   ]
  },
  {
   "cell_type": "markdown",
   "id": "8b6aceb1",
   "metadata": {},
   "source": [
    "### Figure 2D"
   ]
  },
  {
   "cell_type": "code",
   "execution_count": 4,
   "id": "dca6b4a9",
   "metadata": {},
   "outputs": [],
   "source": [
    "Q_O_minus, Q_O_plus, SI_O_minus, SI_O_plus = np.load('sim_splits.npy', allow_pickle = True)"
   ]
  },
  {
   "cell_type": "code",
   "execution_count": 5,
   "id": "a8ee0a96",
   "metadata": {},
   "outputs": [
    {
     "data": {
      "image/png": "[encoded data removed]",
      "text/plain": [
       "<Figure size 300x200 with 2 Axes>"
      ]
     },
     "metadata": {},
     "output_type": "display_data"
    }
   ],
   "source": [
    "plt.figure(figsize=(3,2))\n",
    "\n",
    "\n",
    "ax = plt.subplot(1,2,1)\n",
    "\n",
    "ax = sns.barplot(data = [Q_O_plus, Q_O_minus], ci = 68, palette = [turq, '1'], linewidth=1, edgecolor= turq)\n",
    "sns.stripplot(data = [Q_O_plus, Q_O_minus], color = '0.2', size = 4)\n",
    "\n",
    "plt.plot([Q_O_plus, Q_O_minus], color = '0.2', alpha = 0.3)\n",
    "\n",
    "plt.ylim(-0,1.1)\n",
    "\n",
    "#\n",
    "plt.yticks(np.arange (0,1.1,0.5), ['     0', 0.5, 1.0])\n",
    "plt.xticks([0,1],['O+','O-'])\n",
    "\n",
    "\n",
    "\n",
    "plt.ylabel('Q RPE')\n",
    "\n",
    "\n",
    "plt.xlabel('past choice')\n",
    "        \n",
    "sns.despine()\n",
    "plt.tight_layout()\n",
    "\n",
    "ax = plt.subplot(1,2,2)\n",
    "\n",
    "ax = sns.barplot(data = [SI_O_plus, SI_O_minus], ci = 68, palette = [pink, '1'], linewidth=1, edgecolor= pink)\n",
    "sns.stripplot(data = [SI_O_plus, SI_O_minus], color = '0.2', size = 4)\n",
    "\n",
    "plt.plot([SI_O_plus, SI_O_minus], color = '0.2', alpha = 0.3)\n",
    "\n",
    "plt.ylim(-0,1.1)\n",
    "\n",
    "#\n",
    "plt.yticks(np.arange (0,1.1,0.5), ['     0', 0.5, 1.0])\n",
    "plt.xticks([0,1],['O+','O-'])\n",
    "\n",
    "\n",
    "\n",
    "plt.ylabel('SI RPE')\n",
    "\n",
    "\n",
    "plt.xlabel('past choice')\n",
    "        \n",
    "sns.despine()\n",
    "plt.tight_layout()\n"
   ]
  },
  {
   "cell_type": "markdown",
   "id": "d54c5ef5",
   "metadata": {},
   "source": [
    "### Figure 2F"
   ]
  },
  {
   "cell_type": "code",
   "execution_count": 6,
   "id": "c27628d4",
   "metadata": {},
   "outputs": [],
   "source": [
    "mouse_O_minus, mouse_O_plus, mouse_sess_O_minus, mouse_sess_O_plus = np.load('dop_splits.npy', allow_pickle = True)"
   ]
  },
  {
   "cell_type": "code",
   "execution_count": 7,
   "id": "cd363137-6682-4096-afa9-aa540d7fcca2",
   "metadata": {
    "id": "cd363137-6682-4096-afa9-aa540d7fcca2",
    "outputId": "fe1e62f4-a78a-4bde-99df-8516a47a47df"
   },
   "outputs": [
    {
     "data": {
      "image/png": "[encoded data removed]",
      "text/plain": [
       "<Figure size 150x200 with 1 Axes>"
      ]
     },
     "metadata": {},
     "output_type": "display_data"
    }
   ],
   "source": [
    "plt.figure(figsize=(1.5,2))\n",
    "\n",
    "ax = sns.barplot(data = [mouse_O_plus, mouse_O_minus], ci = 68, palette = ['0.4','1'], linewidth=1, edgecolor='0.4')\n",
    "sns.stripplot(data = [mouse_O_plus, mouse_O_minus], color = '0.2', size = 4)\n",
    "\n",
    "sns.stripplot(data = [mouse_sess_O_plus, mouse_sess_O_minus], color = '0.6', size = 3, alpha = 0.5)\n",
    "\n",
    "plt.plot([mouse_O_plus, mouse_O_minus], color = '0.2', alpha = 0.3)\n",
    "\n",
    "\n",
    "plt.ylim(-0.1,1.1)\n",
    "plt.yticks(np.arange (-0.0,1.6,0.5))\n",
    "plt.xticks([0,1],['O+','O-'])\n",
    "\n",
    "\n",
    "\n",
    "plt.ylabel('dLight')\n",
    "\n",
    "\n",
    "plt.xlabel('past choice')\n",
    "\n",
    "        \n",
    "sns.despine()\n",
    "plt.tight_layout()\n"
   ]
  },
  {
   "cell_type": "markdown",
   "id": "e5a6e020",
   "metadata": {},
   "source": [
    "### Figure 2G"
   ]
  },
  {
   "cell_type": "code",
   "execution_count": 8,
   "id": "0a32445a",
   "metadata": {},
   "outputs": [],
   "source": [
    "Q_mouse, SI_mouse, Q_sess, SI_sess = np.load('dop_simple_r2.npy', allow_pickle= True)"
   ]
  },
  {
   "cell_type": "code",
   "execution_count": 9,
   "id": "6a62992f-b395-420c-96fc-3c3520d5d49c",
   "metadata": {
    "id": "6a62992f-b395-420c-96fc-3c3520d5d49c",
    "outputId": "6a2e414c-4a53-45ab-b6c7-16793f72650b"
   },
   "outputs": [
    {
     "data": {
      "image/png": "[encoded data removed]",
      "text/plain": [
       "<Figure size 150x200 with 1 Axes>"
      ]
     },
     "metadata": {},
     "output_type": "display_data"
    }
   ],
   "source": [
    "plt.figure(figsize = (1.5,2))\n",
    "\n",
    "sns.stripplot(data = [Q_sess, SI_sess], color = '0.7', size = 3, alpha = 0.5)\n",
    "\n",
    "sns.barplot(data = [Q_mouse, SI_mouse], palette = [turq, pink])\n",
    "sns.stripplot(data = [Q_mouse, SI_mouse], color = '0.2', size = 4)\n",
    "\n",
    "plt.plot([Q_mouse, SI_mouse], color = '0.2', alpha = 0.3);\n",
    "\n",
    "\n",
    "\n",
    "plt.ylim(-0.1,0.85)\n",
    "plt.xticks([0,1],['Q', 'SI'])\n",
    "plt.xlabel('model')\n",
    "plt.ylabel('$R^{2}$')\n",
    "sns.despine()\n",
    "plt.tight_layout()"
   ]
  },
  {
   "cell_type": "markdown",
   "id": "50d3678f",
   "metadata": {},
   "source": [
    "### Figure 2J"
   ]
  },
  {
   "cell_type": "code",
   "execution_count": 11,
   "id": "eb013208",
   "metadata": {},
   "outputs": [],
   "source": [
    "cpd_summary = np.load('cpd_summary.npy', allow_pickle=True)"
   ]
  },
  {
   "cell_type": "code",
   "execution_count": 12,
   "id": "64c10e70-8ca5-442a-8fbe-1e5f0c0a4707",
   "metadata": {
    "id": "64c10e70-8ca5-442a-8fbe-1e5f0c0a4707",
    "outputId": "35c6b622-47e1-4f3d-e3c4-fd1c577fcc7a"
   },
   "outputs": [
    {
     "data": {
      "image/png": "[encoded data removed]",
      "text/plain": [
       "<Figure size 150x200 with 1 Axes>"
      ]
     },
     "metadata": {},
     "output_type": "display_data"
    }
   ],
   "source": [
    "plt.figure(figsize = (1.5,2))\n",
    "\n",
    "sns.barplot(data = cpd_summary, palette = [turq, pink], estimator = np.mean)\n",
    "sns.stripplot(data = cpd_summary, color = '0.2', size = 4, jitter = False)\n",
    "plt.xticks(rotation = 90)\n",
    "plt.plot(cpd_summary.T, c = '0.2', alpha = 0.3)\n",
    "\n",
    "plt.xticks(rotation=0)\n",
    "plt.xticks([0,1],['Q', 'SI'])\n",
    "\n",
    "plt.ylabel('CPD (%)')\n",
    "plt.yticks([0,0.01, 0.02, 0.03],['0.0','1.0','2.0','3.0'])\n",
    "\n",
    "plt.xlabel('model')\n",
    "\n",
    "sns.despine()\n",
    "plt.tight_layout()\n"
   ]
  },
  {
   "cell_type": "markdown",
   "id": "624d7744",
   "metadata": {},
   "source": [
    "### Figure 2K"
   ]
  },
  {
   "cell_type": "code",
   "execution_count": 13,
   "id": "51d0204b",
   "metadata": {},
   "outputs": [],
   "source": [
    "single_pred_cpd_summary = np.load('single_pred_cpd.npy', allow_pickle=True)"
   ]
  },
  {
   "cell_type": "code",
   "execution_count": 15,
   "id": "08eea654",
   "metadata": {},
   "outputs": [
    {
     "data": {
      "image/png": "[encoded data removed]",
      "text/plain": [
       "<Figure size 160x200 with 1 Axes>"
      ]
     },
     "metadata": {},
     "output_type": "display_data"
    }
   ],
   "source": [
    "plt.figure(figsize = (1.6,2))\n",
    "\n",
    "sns.barplot(data = single_pred_cpd_summary.T, palette = [turq, pink], estimator = np.mean)\n",
    "sns.stripplot(data = single_pred_cpd_summary.T, color = '0.2', size = 4, jitter = False)\n",
    "plt.xticks(rotation = 90)\n",
    "\n",
    "plt.plot(single_pred_cpd_summary, c = '0.2', alpha = 0.3)\n",
    "\n",
    "\n",
    "plt.xticks(rotation=0)\n",
    "plt.xticks([0,1],['Q', 'SI'])\n",
    "\n",
    "plt.ylabel('Single predictor $R^{2}$')\n",
    "plt.yticks([0,0.05, 0.1, 0.15],['0','0.05', '0.1', '0.15'])\n",
    "\n",
    "plt.xlabel('model')\n",
    "plt.ylim(0.05, 0.15)\n",
    "\n",
    "sns.despine()\n",
    "plt.tight_layout()\n"
   ]
  },
  {
   "cell_type": "code",
   "execution_count": null,
   "id": "27a982ae",
   "metadata": {},
   "outputs": [],
   "source": []
  }
 ],
 "metadata": {
  "colab": {
   "provenance": []
  },
  "kernelspec": {
   "display_name": "Python 3",
   "language": "python",
   "name": "python3"
  },
  "language_info": {
   "codemirror_mode": {
    "name": "ipython",
    "version": 3
   },
   "file_extension": ".py",
   "mimetype": "text/x-python",
   "name": "python",
   "nbconvert_exporter": "python",
   "pygments_lexer": "ipython3",
   "version": "3.9.13"
  }
 },
 "nbformat": 4,
 "nbformat_minor": 5
}
