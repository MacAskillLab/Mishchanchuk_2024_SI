{
 "cells": [
  {
   "cell_type": "code",
   "execution_count": 1,
   "id": "dcea5349-8c74-4cc9-991e-372c781f95a7",
   "metadata": {
    "id": "dcea5349-8c74-4cc9-991e-372c781f95a7"
   },
   "outputs": [],
   "source": [
    "import pickle\n",
    "import pandas as pd\n",
    "import numpy as np \n",
    "import seaborn as sns\n",
    "from matplotlib import pyplot as plt"
   ]
  },
  {
   "cell_type": "code",
   "execution_count": 2,
   "id": "af043720",
   "metadata": {},
   "outputs": [
    {
     "name": "stdout",
     "output_type": "stream",
     "text": [
      "python version 3.9.13 \n",
      "pandas version 1.4.4\n",
      "numpy version 1.21.5\n",
      "seaborn version 0.11.2\n"
     ]
    }
   ],
   "source": [
    "import sys\n",
    "print('python version' + ' ' + sys.version[:7])\n",
    "print('pandas version' + ' ' + pd.__version__)\n",
    "print('numpy version' + ' ' + np.__version__)\n",
    "print('seaborn version' + ' ' + sns.__version__)"
   ]
  },
  {
   "cell_type": "code",
   "execution_count": 3,
   "id": "a8f20537-640d-4bb4-9dde-e746ebb2b1dc",
   "metadata": {
    "id": "a8f20537-640d-4bb4-9dde-e746ebb2b1dc",
    "outputId": "8cc91b3d-bc80-4b28-cbc9-03302a46d01f"
   },
   "outputs": [],
   "source": [
    "#import hex codes\n",
    "pink = '#CD8897'\n",
    "turq = '#61A2AD'"
   ]
  },
  {
   "cell_type": "markdown",
   "id": "4140a010",
   "metadata": {},
   "source": [
    "### Figure 4K"
   ]
  },
  {
   "cell_type": "code",
   "execution_count": 10,
   "id": "b6e29c81",
   "metadata": {},
   "outputs": [],
   "source": [
    "choice, outcome, context = np.load('svm_acc.npy', allow_pickle = True)"
   ]
  },
  {
   "cell_type": "code",
   "execution_count": 11,
   "id": "9ef3b28c",
   "metadata": {},
   "outputs": [
    {
     "data": {
      "image/png": "[encoded data removed]",
      "text/plain": [
       "<Figure size 170x200 with 1 Axes>"
      ]
     },
     "metadata": {},
     "output_type": "display_data"
    }
   ],
   "source": [
    "plt.figure(figsize=(1.7,2))\n",
    "\n",
    "ax = sns.barplot(data = [choice, outcome, context], ci = 68, color = '0.5', linewidth=1, edgecolor= '0.5')\n",
    "\n",
    "\n",
    "sns.stripplot(data = [choice, outcome, context], color = '0.7', size = 3, alpha = 0.5)\n",
    "\n",
    "plt.axhline(y = 0.5, linestyle = '--', color = '0.2')\n",
    "\n",
    "plt.ylim(-0.1,1.1)\n",
    "\n",
    "\n",
    "plt.yticks(np.arange (-0.0,1.1,0.5))\n",
    "\n",
    "plt.xticks([0,1,2],['choice','outcome', 'context'], rotation = 90)\n",
    "\n",
    "plt.ylabel('Accuracy')\n",
    "        \n",
    "sns.despine()\n",
    "plt.tight_layout()"
   ]
  },
  {
   "cell_type": "markdown",
   "id": "ab63ef3c",
   "metadata": {},
   "source": [
    "### Figure 4M"
   ]
  },
  {
   "cell_type": "code",
   "execution_count": 14,
   "id": "0b40503a",
   "metadata": {},
   "outputs": [],
   "source": [
    "n_cells, acc, acc_shuffle = np.load('ccgp_acc_all.npy', allow_pickle = True)"
   ]
  },
  {
   "cell_type": "code",
   "execution_count": 15,
   "id": "01c24c8a",
   "metadata": {},
   "outputs": [
    {
     "data": {
      "image/png": "[encoded data removed]",
      "text/plain": [
       "<Figure size 200x200 with 1 Axes>"
      ]
     },
     "metadata": {},
     "output_type": "display_data"
    }
   ],
   "source": [
    "plt.figure(figsize = (2,2))\n",
    "\n",
    "ax = sns.lineplot(x = n_cells, y = acc, color = '#CD8897')\n",
    "\n",
    "\n",
    "sns.lineplot(x = n_cells, y = acc_shuffle, color = '0.6')\n",
    "\n",
    "\n",
    "plt.ylabel('Accuracy')\n",
    "plt.xlabel('# cells')\n",
    "\n",
    "plt.ylim(0.4,0.8)\n",
    "plt.axhline(y = 0.5, linestyle = '--', c = '0.6')\n",
    "plt.xlim(0,100)\n",
    "sns.despine()\n",
    "plt.tight_layout()"
   ]
  },
  {
   "cell_type": "code",
   "execution_count": 12,
   "id": "17a438c9",
   "metadata": {},
   "outputs": [],
   "source": [
    "ccgp_data = np.load('ccgp_acc_mouse.npy', allow_pickle = True)"
   ]
  },
  {
   "cell_type": "code",
   "execution_count": 13,
   "id": "5db55cad",
   "metadata": {},
   "outputs": [
    {
     "data": {
      "image/png": "[encoded data removed]",
      "text/plain": [
       "<Figure size 150x200 with 1 Axes>"
      ]
     },
     "metadata": {},
     "output_type": "display_data"
    }
   ],
   "source": [
    "plt.figure(figsize = (1.5,2))\n",
    "\n",
    "ax = sns.barplot(data = ccgp_data.T, ci = 68, palette = ['1', '0.5'], linewidth=1, edgecolor='0.5')\n",
    "\n",
    "\n",
    "sns.stripplot(data = ccgp_data.T, color = '0.7', size = 3, alpha = 0.5)\n",
    "\n",
    "plt.ylim(0.4,1.1)\n",
    "plt.xticks([0,1],['shuffle', 'data'], rotation = 90)\n",
    "plt.axhline(y = 0.5, linestyle = '--', c = '0.6')\n",
    "\n",
    "plt.ylabel('Accuracy')\n",
    "\n",
    "sns.despine()\n",
    "plt.tight_layout()"
   ]
  },
  {
   "cell_type": "code",
   "execution_count": null,
   "id": "ab4e4794",
   "metadata": {},
   "outputs": [],
   "source": []
  }
 ],
 "metadata": {
  "colab": {
   "provenance": []
  },
  "kernelspec": {
   "display_name": "Python 3",
   "language": "python",
   "name": "python3"
  },
  "language_info": {
   "codemirror_mode": {
    "name": "ipython",
    "version": 3
   },
   "file_extension": ".py",
   "mimetype": "text/x-python",
   "name": "python",
   "nbconvert_exporter": "python",
   "pygments_lexer": "ipython3",
   "version": "3.9.13"
  }
 },
 "nbformat": 4,
 "nbformat_minor": 5
}
